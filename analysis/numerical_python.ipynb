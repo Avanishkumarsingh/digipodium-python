{
 "cells": [
  {
   "attachments": {},
   "cell_type": "markdown",
   "metadata": {},
   "source": [
    "why should i use numpy❔"
   ]
  },
  {
   "cell_type": "code",
   "execution_count": 1,
   "metadata": {},
   "outputs": [],
   "source": [
    "import numpy as np"
   ]
  },
  {
   "cell_type": "code",
   "execution_count": 2,
   "metadata": {},
   "outputs": [
    {
     "name": "stdout",
     "output_type": "stream",
     "text": [
      "[[5 5]\n",
      " [9 6]]\n"
     ]
    }
   ],
   "source": [
    "x = np.array([[3,2],[5,5]])\n",
    "y = np.array([[2,3],[4,1]])\n",
    "z = x + y\n",
    "print(z)"
   ]
  },
  {
   "cell_type": "code",
   "execution_count": 3,
   "metadata": {},
   "outputs": [
    {
     "name": "stdout",
     "output_type": "stream",
     "text": [
      "matrix properties\n",
      "shape=>  (2, 2)\n",
      "size=>  4\n",
      "dtype=>  int32\n",
      "ndim=>  2\n"
     ]
    }
   ],
   "source": [
    "print(\"matrix properties\")\n",
    "print(\"shape=> \", z.shape)\n",
    "print(\"size=> \", z.size)\n",
    "print(\"dtype=> \", z.dtype)\n",
    "print(\"ndim=> \", z.ndim)"
   ]
  },
  {
   "cell_type": "code",
   "execution_count": 4,
   "metadata": {},
   "outputs": [
    {
     "name": "stdout",
     "output_type": "stream",
     "text": [
      "(3, 3)\n",
      "9\n",
      "int32\n",
      "2\n",
      "[[3 1 2]\n",
      " [1 2 3]\n",
      " [2 3 1]]\n"
     ]
    }
   ],
   "source": [
    "x = np.array([\n",
    "    [3, 1, 2],\n",
    "    [1, 2, 3],\n",
    "    [2, 3, 1],\n",
    "])\n",
    "print(x.shape)\n",
    "print(x.size)\n",
    "print(x.dtype)\n",
    "print(x.ndim)\n",
    "print(x)"
   ]
  },
  {
   "attachments": {},
   "cell_type": "markdown",
   "metadata": {},
   "source": [
    "generating matrix\n",
    "- sequential\n",
    "    - np.arange\n",
    "    -np.lin"
   ]
  },
  {
   "cell_type": "code",
   "execution_count": 5,
   "metadata": {},
   "outputs": [
    {
     "name": "stdout",
     "output_type": "stream",
     "text": [
      "[-100  -95  -90  -85  -80  -75  -70  -65  -60  -55  -50  -45  -40  -35\n",
      "  -30  -25  -20  -15  -10   -5    0    5   10   15   20   25   30   35\n",
      "   40   45   50   55   60   65   70   75   80   85   90   95]\n"
     ]
    }
   ],
   "source": [
    "a = np.arange(-100,100,5)\n",
    "print(a)"
   ]
  },
  {
   "cell_type": "code",
   "execution_count": 6,
   "metadata": {},
   "outputs": [
    {
     "name": "stdout",
     "output_type": "stream",
     "text": [
      "[-100.          -89.47368421  -78.94736842  -68.42105263  -57.89473684\n",
      "  -47.36842105  -36.84210526  -26.31578947  -15.78947368   -5.26315789\n",
      "    5.26315789   15.78947368   26.31578947   36.84210526   47.36842105\n",
      "   57.89473684   68.42105263   78.94736842   89.47368421  100.        ]\n"
     ]
    }
   ],
   "source": [
    "b = np.linspace(-100,100,20)\n",
    "print(b)"
   ]
  },
  {
   "cell_type": "code",
   "execution_count": 7,
   "metadata": {},
   "outputs": [
    {
     "name": "stdout",
     "output_type": "stream",
     "text": [
      "[ 4.          5.0396842   6.34960421  8.         10.0793684  12.69920842\n",
      " 16.         20.1587368  25.39841683 32.        ]\n"
     ]
    }
   ],
   "source": [
    "c = np.logspace(2,5,base=2, num=10)\n",
    "print(c)"
   ]
  },
  {
   "cell_type": "code",
   "execution_count": 8,
   "metadata": {},
   "outputs": [],
   "source": [
    "import matplotlib.pyplot as plt"
   ]
  },
  {
   "cell_type": "code",
   "execution_count": 9,
   "metadata": {},
   "outputs": [
    {
     "data": {
      "text/plain": [
       "[<matplotlib.lines.Line2D at 0x1ea93fb4880>]"
      ]
     },
     "execution_count": 9,
     "metadata": {},
     "output_type": "execute_result"
    },
    {
     "data": {
      "image/png": "[encoded data removed]",
      "text/plain": [
       "<Figure size 640x480 with 1 Axes>"
      ]
     },
     "metadata": {},
     "output_type": "display_data"
    }
   ],
   "source": [
    "plt.plot(np.linspace(1, 10, 25), \"go--\")"
   ]
  },
  {
   "cell_type": "code",
   "execution_count": 10,
   "metadata": {},
   "outputs": [
    {
     "data": {
      "text/plain": [
       "[<matplotlib.lines.Line2D at 0x1ea94037af0>]"
      ]
     },
     "execution_count": 10,
     "metadata": {},
     "output_type": "execute_result"
    },
    {
     "data": {
      "image/png": "[encoded data removed]",
      "text/plain": [
       "<Figure size 640x480 with 1 Axes>"
      ]
     },
     "metadata": {},
     "output_type": "display_data"
    }
   ],
   "source": [
    "plt.plot(np.logspace(1, 10, 25,base=2), 'rx')"
   ]
  },
  {
   "cell_type": "code",
   "execution_count": 11,
   "metadata": {},
   "outputs": [
    {
     "data": {
      "text/plain": [
       "array([[0.16884058, 0.52125676, 0.76282382],\n",
       "       [0.93783944, 0.47030485, 0.72430674],\n",
       "       [0.83242429, 0.93211644, 0.66005367],\n",
       "       [0.36746592, 0.20147521, 0.91747076],\n",
       "       [0.0799336 , 0.68041388, 0.26988161],\n",
       "       [0.43751568, 0.21835912, 0.74297568]])"
      ]
     },
     "execution_count": 11,
     "metadata": {},
     "output_type": "execute_result"
    }
   ],
   "source": [
    "np.random.rand(6,3)"
   ]
  },
  {
   "cell_type": "code",
   "execution_count": 12,
   "metadata": {},
   "outputs": [
    {
     "name": "stdout",
     "output_type": "stream",
     "text": [
      "[[1 1 1]\n",
      " [1 1 1]\n",
      " [1 1 1]]\n"
     ]
    }
   ],
   "source": [
    "y = np.random.randint(1, 2, (3,3))\n",
    "print(y)"
   ]
  },
  {
   "cell_type": "code",
   "execution_count": 13,
   "metadata": {},
   "outputs": [
    {
     "name": "stdout",
     "output_type": "stream",
     "text": [
      "[[-2.91509801 -0.4335086   1.41419382]\n",
      " [ 4.97533043 -0.7560848  -1.13616634]\n",
      " [ 4.1827827   3.71340991 -3.13126065]]\n"
     ]
    }
   ],
   "source": [
    "z = np.random.uniform(-4, 5, (3,3))\n",
    "print(z)"
   ]
  },
  {
   "cell_type": "code",
   "execution_count": 14,
   "metadata": {},
   "outputs": [
    {
     "name": "stdout",
     "output_type": "stream",
     "text": [
      "[[1 1 1 1 1]\n",
      " [1 1 1 1 1]\n",
      " [1 1 1 1 1]\n",
      " [1 1 1 1 1]\n",
      " [1 1 1 1 1]]\n"
     ]
    }
   ],
   "source": [
    "a = np.ones([5, 5], dtype=int)\n",
    "print(a)"
   ]
  },
  {
   "cell_type": "code",
   "execution_count": 15,
   "metadata": {},
   "outputs": [
    {
     "name": "stdout",
     "output_type": "stream",
     "text": [
      "[[0 0 0 0]\n",
      " [0 0 0 0]\n",
      " [0 0 0 0]\n",
      " [0 0 0 0]\n",
      " [0 0 0 0]]\n"
     ]
    }
   ],
   "source": [
    "z = np.zeros([5, 4,], dtype=int)\n",
    "print(z)"
   ]
  },
  {
   "cell_type": "code",
   "execution_count": 16,
   "metadata": {},
   "outputs": [
    {
     "name": "stdout",
     "output_type": "stream",
     "text": [
      "[[1 0 0 0 0]\n",
      " [0 1 0 0 0]\n",
      " [0 0 1 0 0]\n",
      " [0 0 0 1 0]\n",
      " [0 0 0 0 1]]\n"
     ]
    }
   ],
   "source": [
    "e = np.eye(5, dtype=int)\n",
    "print(e)"
   ]
  },
  {
   "cell_type": "code",
   "execution_count": 17,
   "metadata": {},
   "outputs": [
    {
     "name": "stdout",
     "output_type": "stream",
     "text": [
      "[[1 0 0 0 0]\n",
      " [0 4 0 0 0]\n",
      " [0 0 5 0 0]\n",
      " [0 0 0 6 0]\n",
      " [0 0 0 0 7]]\n"
     ]
    }
   ],
   "source": [
    "d = np.diag([1, 4, 5, 6, 7])\n",
    "print(d)"
   ]
  },
  {
   "cell_type": "code",
   "execution_count": 18,
   "metadata": {},
   "outputs": [
    {
     "name": "stdout",
     "output_type": "stream",
     "text": [
      "[[8 5 4]\n",
      " [5 9 8]\n",
      " [8 8 6]]\n",
      "[[6 3 4]\n",
      " [9 6 1]\n",
      " [9 9 1]]\n"
     ]
    }
   ],
   "source": [
    "x = np.random.randint(1, 10, (3,3))\n",
    "y = np.random.randint(1, 10, (3,3))\n",
    "print(x)\n",
    "print(y)"
   ]
  },
  {
   "cell_type": "code",
   "execution_count": 19,
   "metadata": {},
   "outputs": [
    {
     "data": {
      "text/plain": [
       "array([[14,  8,  8],\n",
       "       [14, 15,  9],\n",
       "       [17, 17,  7]])"
      ]
     },
     "execution_count": 19,
     "metadata": {},
     "output_type": "execute_result"
    }
   ],
   "source": [
    "x + y"
   ]
  },
  {
   "cell_type": "code",
   "execution_count": 20,
   "metadata": {},
   "outputs": [
    {
     "data": {
      "text/plain": [
       "array([[48, 15, 16],\n",
       "       [45, 54,  8],\n",
       "       [72, 72,  6]])"
      ]
     },
     "execution_count": 20,
     "metadata": {},
     "output_type": "execute_result"
    }
   ],
   "source": [
    "x*y"
   ]
  },
  {
   "cell_type": "code",
   "execution_count": 21,
   "metadata": {},
   "outputs": [
    {
     "data": {
      "text/plain": [
       "array([[ 2,  2,  0],\n",
       "       [-4,  3,  7],\n",
       "       [-1, -1,  5]])"
      ]
     },
     "execution_count": 21,
     "metadata": {},
     "output_type": "execute_result"
    }
   ],
   "source": [
    "x - y"
   ]
  },
  {
   "cell_type": "code",
   "execution_count": 22,
   "metadata": {},
   "outputs": [
    {
     "data": {
      "text/plain": [
       "array([[129,  90,  41],\n",
       "       [183, 141,  37],\n",
       "       [174, 126,  46]])"
      ]
     },
     "execution_count": 22,
     "metadata": {},
     "output_type": "execute_result"
    }
   ],
   "source": [
    "np.dot(x,y) # matrix multiplication"
   ]
  },
  {
   "cell_type": "code",
   "execution_count": 23,
   "metadata": {},
   "outputs": [
    {
     "data": {
      "text/plain": [
       "array([       8,       40,      160,      800,     7200,    57600,\n",
       "         460800,  3686400, 22118400])"
      ]
     },
     "execution_count": 23,
     "metadata": {},
     "output_type": "execute_result"
    }
   ],
   "source": [
    "np.cumprod(x) # cumlative sum"
   ]
  },
  {
   "cell_type": "code",
   "execution_count": 24,
   "metadata": {},
   "outputs": [
    {
     "data": {
      "text/plain": [
       "61"
      ]
     },
     "execution_count": 24,
     "metadata": {},
     "output_type": "execute_result"
    }
   ],
   "source": [
    "x.sum()"
   ]
  },
  {
   "cell_type": "code",
   "execution_count": 25,
   "metadata": {},
   "outputs": [
    {
     "name": "stdout",
     "output_type": "stream",
     "text": [
      "[[3 4 1 3 9]\n",
      " [5 5 2 3 6]\n",
      " [7 1 5 5 5]]\n",
      "[15 10  8 11 20]\n",
      "[20 21 23]\n"
     ]
    }
   ],
   "source": [
    "x = np.random.randint(1, 10, (3,5))\n",
    "print(x)\n",
    "print(x.sum(axis=0)) # sum of each column\n",
    "print(x.sum(axis=1)) # sum of each row"
   ]
  },
  {
   "cell_type": "code",
   "execution_count": 26,
   "metadata": {},
   "outputs": [
    {
     "name": "stdout",
     "output_type": "stream",
     "text": [
      "4.266666666666667\n",
      "9\n",
      "1\n",
      "2.1123972690339814\n",
      "5.0\n"
     ]
    }
   ],
   "source": [
    "print(x.mean())\n",
    "print(x.max())\n",
    "print(x.min())\n",
    "print(x.std())\n",
    "print(np.median(x))"
   ]
  },
  {
   "attachments": {},
   "cell_type": "markdown",
   "metadata": {},
   "source": [
    "- reshape\n",
    "- transpose\n",
    "- flatten\n",
    "- concept of boolean indexing (filtering)"
   ]
  },
  {
   "cell_type": "code",
   "execution_count": 27,
   "metadata": {},
   "outputs": [
    {
     "name": "stdout",
     "output_type": "stream",
     "text": [
      "[[69 55 92 58 88 72]\n",
      " [11 18 74 60 92 67]\n",
      " [96  4 30 29 56  1]\n",
      " [79 11 61 23 94  1]\n",
      " [ 9 77 53 98 97 89]]\n"
     ]
    }
   ],
   "source": [
    "x = np.random.randint(1, 100, (5,6))\n",
    "print(x)"
   ]
  },
  {
   "cell_type": "code",
   "execution_count": 28,
   "metadata": {},
   "outputs": [
    {
     "name": "stdout",
     "output_type": "stream",
     "text": [
      "[[69 55 92 58 88 72 11 18 74 60 92 67 96  4 30 29 56  1 79 11 61 23 94  1\n",
      "   9 77 53 98 97 89]]\n"
     ]
    }
   ],
   "source": [
    "xi = x.reshape(1,30)\n",
    "print(xi)"
   ]
  },
  {
   "cell_type": "code",
   "execution_count": 29,
   "metadata": {},
   "outputs": [
    {
     "data": {
      "text/plain": [
       "array([[[69, 55, 92],\n",
       "        [58, 88, 72],\n",
       "        [11, 18, 74],\n",
       "        [60, 92, 67],\n",
       "        [96,  4, 30]],\n",
       "\n",
       "       [[29, 56,  1],\n",
       "        [79, 11, 61],\n",
       "        [23, 94,  1],\n",
       "        [ 9, 77, 53],\n",
       "        [98, 97, 89]]])"
      ]
     },
     "execution_count": 29,
     "metadata": {},
     "output_type": "execute_result"
    }
   ],
   "source": [
    "x.reshape(2,5,3)"
   ]
  },
  {
   "cell_type": "code",
   "execution_count": 30,
   "metadata": {},
   "outputs": [
    {
     "data": {
      "text/plain": [
       "array([[[38, 14],\n",
       "        [31, 73],\n",
       "        [19, 23],\n",
       "        [13, 74]],\n",
       "\n",
       "       [[91, 43],\n",
       "        [93, 58],\n",
       "        [16,  7],\n",
       "        [48, 39]]])"
      ]
     },
     "execution_count": 30,
     "metadata": {},
     "output_type": "execute_result"
    }
   ],
   "source": [
    "np.random.randint(1, 100, (2,4,2))"
   ]
  },
  {
   "cell_type": "code",
   "execution_count": 31,
   "metadata": {},
   "outputs": [
    {
     "name": "stdout",
     "output_type": "stream",
     "text": [
      "[[48 35 31 69]\n",
      " [34 84  3 89]]\n",
      "[[48 34]\n",
      " [35 84]\n",
      " [31  3]\n",
      " [69 89]]\n",
      "[[69 89]\n",
      " [31  3]\n",
      " [35 84]\n",
      " [48 34]]\n",
      "[[69 31 35 48]\n",
      " [89  3 84 34]]\n",
      "[[34 84  3 89]\n",
      " [48 35 31 69]]\n"
     ]
    }
   ],
   "source": [
    "x = np.random.randint(1, 100, (2, 4))\n",
    "print(x)\n",
    "print(x.transpose())\n",
    "print(np.rot90(x))\n",
    "print(np.fliplr(x))\n",
    "print(np.flipud(x))"
   ]
  },
  {
   "cell_type": "code",
   "execution_count": 32,
   "metadata": {},
   "outputs": [
    {
     "data": {
      "text/plain": [
       "array([48, 35, 31, 69, 34, 84,  3, 89])"
      ]
     },
     "execution_count": 32,
     "metadata": {},
     "output_type": "execute_result"
    }
   ],
   "source": [
    "x.flatten()"
   ]
  },
  {
   "cell_type": "code",
   "execution_count": 33,
   "metadata": {},
   "outputs": [
    {
     "name": "stdout",
     "output_type": "stream",
     "text": [
      "[[85 89 84 89 29 78]\n",
      " [39 49 23 69 55 12]\n",
      " [79 36 78 18 77 56]\n",
      " [18 43 50 80 53 22]\n",
      " [13 71 32 14 50 26]\n",
      " [37 64 44 32 28 32]]\n"
     ]
    }
   ],
   "source": [
    "x = np.random.randint(10, 100, (6,6))\n",
    "print(x)"
   ]
  },
  {
   "cell_type": "code",
   "execution_count": 34,
   "metadata": {},
   "outputs": [
    {
     "name": "stdout",
     "output_type": "stream",
     "text": [
      "first row [85 89 84 89 29 78]\n",
      "last row [37 64 44 32 28 32]\n"
     ]
    }
   ],
   "source": [
    "print('first row',x[0])\n",
    "print('last row',x[-1])"
   ]
  },
  {
   "cell_type": "code",
   "execution_count": 35,
   "metadata": {},
   "outputs": [
    {
     "name": "stdout",
     "output_type": "stream",
     "text": [
      "fisrt element 85\n"
     ]
    }
   ],
   "source": [
    "print('fisrt element', x[0,0])"
   ]
  },
  {
   "cell_type": "code",
   "execution_count": 36,
   "metadata": {},
   "outputs": [
    {
     "name": "stdout",
     "output_type": "stream",
     "text": [
      "last element 32\n"
     ]
    }
   ],
   "source": [
    "print('last element', x[-1,-1])"
   ]
  },
  {
   "cell_type": "code",
   "execution_count": 37,
   "metadata": {},
   "outputs": [
    {
     "name": "stdout",
     "output_type": "stream",
     "text": [
      "18\n"
     ]
    }
   ],
   "source": [
    "print(x[2,3])"
   ]
  },
  {
   "attachments": {},
   "cell_type": "markdown",
   "metadata": {},
   "source": [
    "array[rowslice, colslice]"
   ]
  },
  {
   "cell_type": "code",
   "execution_count": 38,
   "metadata": {},
   "outputs": [
    {
     "name": "stdout",
     "output_type": "stream",
     "text": [
      "fist column [85 39 79 18 13 37]\n",
      "last column [78 12 56 22 26 32]\n"
     ]
    }
   ],
   "source": [
    "print('fist column', x[:,0])\n",
    "print('last column', x[:,-1])"
   ]
  },
  {
   "cell_type": "code",
   "execution_count": 39,
   "metadata": {},
   "outputs": [
    {
     "name": "stdout",
     "output_type": "stream",
     "text": [
      "[[85 89 84 89 29 78]\n",
      " [39 49 23 69 55 12]\n",
      " [79 36 78 18 77 56]\n",
      " [18 43 50 80 53 22]\n",
      " [13 71 32 14 50 26]\n",
      " [37 64 44 32 28 32]]\n"
     ]
    },
    {
     "data": {
      "text/plain": [
       "array([[89, 84, 89],\n",
       "       [49, 23, 69],\n",
       "       [36, 78, 18],\n",
       "       [43, 50, 80],\n",
       "       [71, 32, 14],\n",
       "       [64, 44, 32]])"
      ]
     },
     "execution_count": 39,
     "metadata": {},
     "output_type": "execute_result"
    }
   ],
   "source": [
    "print(x)\n",
    "x[:,[1,2,3]]"
   ]
  },
  {
   "cell_type": "code",
   "execution_count": 40,
   "metadata": {},
   "outputs": [
    {
     "data": {
      "text/plain": [
       "array([[85, 89, 84],\n",
       "       [39, 49, 23],\n",
       "       [79, 36, 78],\n",
       "       [18, 43, 50],\n",
       "       [13, 71, 32],\n",
       "       [37, 64, 44]])"
      ]
     },
     "execution_count": 40,
     "metadata": {},
     "output_type": "execute_result"
    }
   ],
   "source": [
    "x[:, :3]"
   ]
  },
  {
   "cell_type": "code",
   "execution_count": 41,
   "metadata": {},
   "outputs": [
    {
     "data": {
      "text/plain": [
       "array([[49, 23, 69, 55],\n",
       "       [36, 78, 18, 77],\n",
       "       [43, 50, 80, 53],\n",
       "       [71, 32, 14, 50]])"
      ]
     },
     "execution_count": 41,
     "metadata": {},
     "output_type": "execute_result"
    }
   ],
   "source": [
    "x[1:-1,1:-1]"
   ]
  },
  {
   "cell_type": "code",
   "execution_count": 42,
   "metadata": {},
   "outputs": [
    {
     "data": {
      "text/plain": [
       "array([[80, 53, 22],\n",
       "       [14, 50, 26],\n",
       "       [32, 28, 32]])"
      ]
     },
     "execution_count": 42,
     "metadata": {},
     "output_type": "execute_result"
    }
   ],
   "source": [
    "x[-3:, -3:]"
   ]
  },
  {
   "cell_type": "code",
   "execution_count": 43,
   "metadata": {},
   "outputs": [
    {
     "data": {
      "text/plain": [
       "array([[49, 23, 69, 55],\n",
       "       [43, 50, 80, 53],\n",
       "       [64, 44, 32, 28]])"
      ]
     },
     "execution_count": 43,
     "metadata": {},
     "output_type": "execute_result"
    }
   ],
   "source": [
    "x[[1,3,-1], 1:-1]"
   ]
  },
  {
   "attachments": {},
   "cell_type": "markdown",
   "metadata": {},
   "source": [
    "# boolean filter"
   ]
  },
  {
   "cell_type": "code",
   "execution_count": 44,
   "metadata": {},
   "outputs": [
    {
     "name": "stdout",
     "output_type": "stream",
     "text": [
      "[598 582 666 781 145 963 266 176 170 996 273 744 616 527 815 232 718 139\n",
      " 714 495 258 625 844 883 609 261 342 660 584 282 619  20 679 720 688 371\n",
      " 338 400 771 938 458 841  83 621 564 715  66 841  87 783]\n"
     ]
    }
   ],
   "source": [
    "x = np.random.randint(1, 1000, 50)\n",
    "print(x)"
   ]
  },
  {
   "cell_type": "code",
   "execution_count": 45,
   "metadata": {},
   "outputs": [
    {
     "data": {
      "text/plain": [
       "array([False, False, False, False, False, False, False, False, False,\n",
       "       False, False, False, False, False, False, False, False, False,\n",
       "       False, False, False, False, False, False, False, False, False,\n",
       "       False, False, False, False,  True, False, False, False, False,\n",
       "       False, False, False, False, False, False,  True, False, False,\n",
       "       False,  True, False,  True, False])"
      ]
     },
     "execution_count": 45,
     "metadata": {},
     "output_type": "execute_result"
    }
   ],
   "source": [
    "x < 100 # boolean filter"
   ]
  },
  {
   "cell_type": "code",
   "execution_count": 46,
   "metadata": {},
   "outputs": [
    {
     "data": {
      "text/plain": [
       "array([598, 582, 666, 781, 145, 963, 266, 176, 170, 996, 273, 744, 616,\n",
       "       527, 815, 232, 718, 139, 714, 495, 258, 625, 844, 883, 609, 261,\n",
       "       342, 660, 584, 282, 619, 679, 720, 688, 371, 338, 400, 771, 938,\n",
       "       458, 841, 621, 564, 715, 841, 783])"
      ]
     },
     "execution_count": 46,
     "metadata": {},
     "output_type": "execute_result"
    }
   ],
   "source": [
    "x[x >= 100]"
   ]
  },
  {
   "cell_type": "code",
   "execution_count": 47,
   "metadata": {},
   "outputs": [],
   "source": [
    "f1 = x >= 500\n",
    "f2 = x <= 800"
   ]
  },
  {
   "cell_type": "code",
   "execution_count": 48,
   "metadata": {},
   "outputs": [
    {
     "name": "stdout",
     "output_type": "stream",
     "text": [
      "[598 582 666 781 744 616 527 718 714 625 609 660 584 619 679 720 688 771\n",
      " 621 564 715 783]\n",
      "[598 582 666 781 744 616 527 718 714 625 609 660 584 619 679 720 688 771\n",
      " 621 564 715 783]\n"
     ]
    }
   ],
   "source": [
    "print(x[f1 & f2])\n",
    "print(x[(x>=500) & (x<=800)])"
   ]
  },
  {
   "cell_type": "code",
   "execution_count": null,
   "metadata": {},
   "outputs": [],
   "source": []
  }
 ],
 "metadata": {
  "kernelspec": {
   "display_name": "base",
   "language": "python",
   "name": "python3"
  },
  "language_info": {
   "codemirror_mode": {
    "name": "ipython",
    "version": 3
   },
   "file_extension": ".py",
   "mimetype": "text/x-python",
   "name": "python",
   "nbconvert_exporter": "python",
   "pygments_lexer": "ipython3",
   "version": "3.9.12"
  },
  "orig_nbformat": 4,
  "vscode": {
   "interpreter": {
    "hash": "6c56f3a33d0a3c970fb9ddc6a367718e31170be01a5eee0ba903e47c86a8ba62"
   }
  }
 },
 "nbformat": 4,
 "nbformat_minor": 2
}
