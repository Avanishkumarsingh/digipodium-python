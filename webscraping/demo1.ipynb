{
 "cells": [
  {
   "cell_type": "code",
   "execution_count": 4,
   "metadata": {},
   "outputs": [],
   "source": [
    "from dputils.scrape import Scraper, Tag\n",
    "import pandas as pd"
   ]
  },
  {
   "cell_type": "code",
   "execution_count": 5,
   "metadata": {},
   "outputs": [],
   "source": [
    "url = 'https://www.flipkart.com/search?q=bags+men&sid=reh%2C4d7%2Cak9&as=on&as-show=on&otracker=AS_QueryStore_OrganicAutoSuggest_2_6_na_na_ps&otracker1=AS_QueryStore_OrganicAutoSuggest_2_6_na_na_ps&as-pos=2&as-type=RECENT&suggestionId=bags+men%7CBackpacks&requestId=88aa28c0-7863-4b7c-9a55-1964c35f2195&as-searchtext=bags%20men'\n",
    "sc = Scraper(url)"
   ]
  },
  {
   "cell_type": "code",
   "execution_count": 6,
   "metadata": {},
   "outputs": [],
   "source": [
    "target = Tag('div',cls=\"_1YokD2 _3Mn1Gg\")\n",
    "items = Tag('div',cls=\"_2B099V\")\n",
    "priceTag = Tag('div', cls=\"_30jeq3\")\n",
    "brandTag = Tag('div', cls=\"_2WkVRV\")\n",
    "results = sc.get_all(target, items, price=priceTag, brand=brandTag)"
   ]
  },
  {
   "cell_type": "markdown",
   "metadata": {},
   "source": []
  },
  {
   "cell_type": "code",
   "execution_count": 7,
   "metadata": {},
   "outputs": [],
   "source": [
    "pd.DataFrame(results).to_csv('flipkart.csv', index=False)"
   ]
  },
  {
   "cell_type": "code",
   "execution_count": 8,
   "metadata": {},
   "outputs": [
    {
     "data": {
      "text/html": [
       "<div>\n",
       "<style scoped>\n",
       "    .dataframe tbody tr th:only-of-type {\n",
       "        vertical-align: middle;\n",
       "    }\n",
       "\n",
       "    .dataframe tbody tr th {\n",
       "        vertical-align: top;\n",
       "    }\n",
       "\n",
       "    .dataframe thead th {\n",
       "        text-align: right;\n",
       "    }\n",
       "</style>\n",
       "<table border=\"1\" class=\"dataframe\">\n",
       "  <thead>\n",
       "    <tr style=\"text-align: right;\">\n",
       "      <th></th>\n",
       "    </tr>\n",
       "  </thead>\n",
       "  <tbody>\n",
       "  </tbody>\n",
       "</table>\n",
       "</div>"
      ],
      "text/plain": [
       "Empty DataFrame\n",
       "Columns: []\n",
       "Index: []"
      ]
     },
     "execution_count": 8,
     "metadata": {},
     "output_type": "execute_result"
    }
   ],
   "source": [
    "amazon_url = 'https://www.amazon.com/s?k=phones&crid=3FTYM31RV35BC&sprefix=phones%2Caps%2C329&ref=nb_sb_noss_1'\n",
    "sc = Scraper(url=amazon_url)\n",
    "target = Tag('div', cls='s-main-slot s-result-list s-search-results sg-row')\n",
    "items = Tag('div', cls='a-size-medium a-color-base a-text-normal')\n",
    "priceTag = Tag('span',cls='a-price-whole')\n",
    "title = Tag('h2')\n",
    "rating = Tag('span', cls='a-icon a-icon-star-small a-star-small-4 aok-align-bottom')\n",
    "results= sc.get_all(target, items, price=priceTag, title=title, rating=rating)\n",
    "pd.DataFrame(results)"
   ]
  },
  {
   "cell_type": "code",
   "execution_count": 10,
   "metadata": {},
   "outputs": [
    {
     "data": {
      "text/html": [
       "<div>\n",
       "<style scoped>\n",
       "    .dataframe tbody tr th:only-of-type {\n",
       "        vertical-align: middle;\n",
       "    }\n",
       "\n",
       "    .dataframe tbody tr th {\n",
       "        vertical-align: top;\n",
       "    }\n",
       "\n",
       "    .dataframe thead th {\n",
       "        text-align: right;\n",
       "    }\n",
       "</style>\n",
       "<table border=\"1\" class=\"dataframe\">\n",
       "  <thead>\n",
       "    <tr style=\"text-align: right;\">\n",
       "      <th></th>\n",
       "    </tr>\n",
       "  </thead>\n",
       "  <tbody>\n",
       "  </tbody>\n",
       "</table>\n",
       "</div>"
      ],
      "text/plain": [
       "Empty DataFrame\n",
       "Columns: []\n",
       "Index: []"
      ]
     },
     "execution_count": 10,
     "metadata": {},
     "output_type": "execute_result"
    }
   ],
   "source": [
    "url = \"https://www.flipkart.com/search?q=shirt+for+men&sid=clo%2Cash%2Caxc%2Cmmk%2Ckp7&as=on&as-show=on&otracker=AS_QueryStore_OrganicAutoSuggest_1_4_na_na_na&otracker1=AS_QueryStore_OrganicAutoSuggest_1_4_na_na_na&as-pos=1&as-type=RECENT&suggestionId=shirt+for+men%7CCasual+Shirts&requestId=53b26044-ac71-45c9-a4aa-63eb4a9cea47&as-searchtext=shie\"\n",
    "sc = Scraper(url)\n",
    "target = Tag('div', cls='_1YokD2 _3Mn1Gg col-2-12')\n",
    "items = Tag('div', cls='_2B099V')\n",
    "priceTag = Tag('div', cls ='_30jeq3')\n",
    "brandTag = Tag('div', cls ='_2WkVRV')\n",
    "results = sc.get_all(target,items,price=priceTag,brand=brandTag,Image=Image)\n",
    "pd.DataFrame(results)"
   ]
  },
  {
   "cell_type": "code",
   "execution_count": null,
   "metadata": {},
   "outputs": [],
   "source": []
  }
 ],
 "metadata": {
  "kernelspec": {
   "display_name": "base",
   "language": "python",
   "name": "python3"
  },
  "language_info": {
   "codemirror_mode": {
    "name": "ipython",
    "version": 3
   },
   "file_extension": ".py",
   "mimetype": "text/x-python",
   "name": "python",
   "nbconvert_exporter": "python",
   "pygments_lexer": "ipython3",
   "version": "3.9.12"
  },
  "orig_nbformat": 4,
  "vscode": {
   "interpreter": {
    "hash": "6c56f3a33d0a3c970fb9ddc6a367718e31170be01a5eee0ba903e47c86a8ba62"
   }
  }
 },
 "nbformat": 4,
 "nbformat_minor": 2
}
