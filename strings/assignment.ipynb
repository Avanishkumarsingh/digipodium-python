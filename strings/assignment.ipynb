{
 "cells": [
  {
   "cell_type": "code",
   "execution_count": 2,
   "metadata": {},
   "outputs": [
    {
     "name": "stdout",
     "output_type": "stream",
     "text": [
      "Hellow how are you\n"
     ]
    }
   ],
   "source": [
    "#1 create a string and print it\n",
    "str = (\"Hellow how are you\")\n",
    "print(str)"
   ]
  },
  {
   "cell_type": "code",
   "execution_count": 3,
   "metadata": {},
   "outputs": [
    {
     "name": "stdout",
     "output_type": "stream",
     "text": [
      "13\n"
     ]
    }
   ],
   "source": [
    "#2 Take a string input and print it's length\n",
    "x = (\"I love python\")\n",
    "print(len(x))"
   ]
  },
  {
   "cell_type": "code",
   "execution_count": 19,
   "metadata": {},
   "outputs": [
    {
     "name": "stdout",
     "output_type": "stream",
     "text": [
      "great\n"
     ]
    }
   ],
   "source": [
    "#3 Print last word of the string\n",
    "str = (\"Python is great\")\n",
    "print(str.split()[-1])"
   ]
  },
  {
   "cell_type": "code",
   "execution_count": 20,
   "metadata": {},
   "outputs": [
    {
     "name": "stdout",
     "output_type": "stream",
     "text": [
      "Pyhton\n",
      "is\n",
      "everywhere\n"
     ]
    }
   ],
   "source": [
    "#4 Print the each word in different line of string Python is everywhere\n",
    "a = (\"Pyhton is everywhere\")\n",
    "for i in a.split():\n",
    "    print(i)"
   ]
  },
  {
   "cell_type": "code",
   "execution_count": 25,
   "metadata": {},
   "outputs": [
    {
     "name": "stdout",
     "output_type": "stream",
     "text": [
      "!dlrow wolleH\n"
     ]
    }
   ],
   "source": [
    "#5 Print a string Hellow word! in reverse\n",
    "x = (\"Hellow world!\")\n",
    "revname = x[::-1]\n",
    "print(revname)"
   ]
  },
  {
   "cell_type": "code",
   "execution_count": 30,
   "metadata": {},
   "outputs": [
    {
     "name": "stdout",
     "output_type": "stream",
     "text": [
      "HOW ARE YOU\n"
     ]
    }
   ],
   "source": [
    "#6 convert the string how are you? in uppercase\n",
    "msg = (\"How are you\")\n",
    "msg_upr = msg.upper()\n",
    "print(msg_upr)"
   ]
  },
  {
   "cell_type": "code",
   "execution_count": 31,
   "metadata": {},
   "outputs": [
    {
     "name": "stdout",
     "output_type": "stream",
     "text": [
      "how is it going\n"
     ]
    }
   ],
   "source": [
    "#7 convert the string How Is It Going❓in lowercase\n",
    "str = (\"How Is It Going\")\n",
    "str_lwr = str.lower()\n",
    "print(str_lwr)"
   ]
  },
  {
   "cell_type": "code",
   "execution_count": 33,
   "metadata": {},
   "outputs": [
    {
     "ename": "SyntaxError",
     "evalue": "invalid syntax (1694362496.py, line 2)",
     "output_type": "error",
     "traceback": [
      "\u001b[1;36m  Cell \u001b[1;32mIn [33], line 2\u001b[1;36m\u001b[0m\n\u001b[1;33m    words = ['Python,'is','easy','to','learn']\u001b[0m\n\u001b[1;37m                           ^\u001b[0m\n\u001b[1;31mSyntaxError\u001b[0m\u001b[1;31m:\u001b[0m invalid syntax\n"
     ]
    }
   ],
   "source": [
    "#8 Joint the following list by spaces( ) and print the result\n",
    "words = ['Python, 'is', 'easy', 'to', 'learn']\n",
    "str = ' ',join(words)\n",
    "print(str)"
   ]
  },
  {
   "cell_type": "code",
   "execution_count": 34,
   "metadata": {},
   "outputs": [
    {
     "name": "stdout",
     "output_type": "stream",
     "text": [
      "when a cat saw mouse then she jumped upon the table\n"
     ]
    }
   ],
   "source": [
    "#9 Print a multiline strin using a single print\n",
    "msg = ('when a cat saw mouse then she jumped upon the table')\n",
    "print(msg)"
   ]
  },
  {
   "cell_type": "code",
   "execution_count": 36,
   "metadata": {},
   "outputs": [
    {
     "name": "stdout",
     "output_type": "stream",
     "text": [
      "Helow\n",
      "my name is avanish\n",
      "wellcome you\n"
     ]
    }
   ],
   "source": [
    "#10 Print the string to move a new line '\\n' is used.(result should look exactly like the provided string)\n",
    "x = (\"Helow\" '\\n'\"my name is avanish\" '\\n'\"wellcome you\")\n",
    "print(x)"
   ]
  },
  {
   "cell_type": "code",
   "execution_count": null,
   "metadata": {},
   "outputs": [],
   "source": [
    "#11 Print a variable with some text using a single print function,output should look like following.the variable is 15\n"
   ]
  },
  {
   "cell_type": "code",
   "execution_count": 40,
   "metadata": {},
   "outputs": [
    {
     "name": "stdout",
     "output_type": "stream",
     "text": [
      " python is great.\n"
     ]
    }
   ],
   "source": [
    "#12 concatenate the following strings and print the result\n",
    "s1 = ' python'\n",
    "s2 = ' is'\n",
    "s3 = ' great.'\n",
    "s4 = s1 + s2 + s3\n",
    "print(s4)"
   ]
  },
  {
   "cell_type": "code",
   "execution_count": 50,
   "metadata": {},
   "outputs": [
    {
     "name": "stdout",
     "output_type": "stream",
     "text": [
      "####################\n"
     ]
    }
   ],
   "source": [
    "#13 Print #20 times without using loop\n",
    "while True:\n",
    "    print('##'*10)"
   ]
  },
  {
   "cell_type": "code",
   "execution_count": 2,
   "metadata": {},
   "outputs": [
    {
     "name": "stdout",
     "output_type": "stream",
     "text": [
      "(0, '12')\n",
      "(1, '45')\n",
      "(2, '88')\n",
      "(3, '100')\n",
      "(4, '234')\n",
      "(5, '593')\n",
      "(6, '456')\n"
     ]
    }
   ],
   "source": [
    "#14 Print numbers from 1 to 9,each on a seperate line,following by a dot,output should look like the following-1. 2. 3.\n",
    "numbers = ['12','45','88','100','234','593','456']\n",
    "for nm in enumerate(numbers):\n",
    "    print(nm)"
   ]
  },
  {
   "cell_type": "code",
   "execution_count": null,
   "metadata": {},
   "outputs": [],
   "source": [
    "#15 Ask user to input a sentence and print each word on a different line.\n"
   ]
  },
  {
   "cell_type": "code",
   "execution_count": null,
   "metadata": {},
   "outputs": [],
   "source": [
    "#16 Ask user to input a string and check if the string ends with'?'\n"
   ]
  },
  {
   "cell_type": "code",
   "execution_count": null,
   "metadata": {},
   "outputs": [],
   "source": []
  }
 ],
 "metadata": {
  "kernelspec": {
   "display_name": "base",
   "language": "python",
   "name": "python3"
  },
  "language_info": {
   "codemirror_mode": {
    "name": "ipython",
    "version": 3
   },
   "file_extension": ".py",
   "mimetype": "text/x-python",
   "name": "python",
   "nbconvert_exporter": "python",
   "pygments_lexer": "ipython3",
   "version": "3.9.12 (main, Apr  4 2022, 05:22:27) [MSC v.1916 64 bit (AMD64)]"
  },
  "orig_nbformat": 4,
  "vscode": {
   "interpreter": {
    "hash": "6c56f3a33d0a3c970fb9ddc6a367718e31170be01a5eee0ba903e47c86a8ba62"
   }
  }
 },
 "nbformat": 4,
 "nbformat_minor": 2
}
