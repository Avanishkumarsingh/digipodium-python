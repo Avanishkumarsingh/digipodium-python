{
 "cells": [
  {
   "cell_type": "code",
   "execution_count": null,
   "metadata": {},
   "outputs": [],
   "source": []
  },
  {
   "cell_type": "markdown",
   "metadata": {},
   "source": [
    "### function that used along with loops\n",
    "- enumarate()\n",
    "- zip()"
   ]
  },
  {
   "cell_type": "code",
   "execution_count": 1,
   "metadata": {},
   "outputs": [
    {
     "name": "stdout",
     "output_type": "stream",
     "text": [
      "(0, 'avanish')\n",
      "(1, 'rahul')\n",
      "(2, 'amit')\n",
      "(3, 'nitesh')\n",
      "(4, 'sandeep')\n",
      "(5, 'amita')\n"
     ]
    }
   ],
   "source": [
    "names =['avanish','rahul','amit','nitesh','sandeep','amita',]\n",
    "for nm in enumerate(names):\n",
    "    print(nm)"
   ]
  },
  {
   "cell_type": "code",
   "execution_count": 6,
   "metadata": {},
   "outputs": [
    {
     "name": "stdout",
     "output_type": "stream",
     "text": [
      "avanish is at index0\n",
      "rahul is at index1\n",
      "amit is at index2\n",
      "nitesh is at index3\n",
      "sandeep is at index4\n",
      "amita is at index5\n"
     ]
    }
   ],
   "source": [
    "for i,nm in enumerate(names):\n",
    "    print(f'{nm} is at index{i}')"
   ]
  },
  {
   "cell_type": "code",
   "execution_count": 7,
   "metadata": {},
   "outputs": [],
   "source": [
    "bday = ['12 oct','2 feb','3 may','4 aug','15 nov','17 dec',]"
   ]
  },
  {
   "cell_type": "code",
   "execution_count": 8,
   "metadata": {},
   "outputs": [
    {
     "name": "stdout",
     "output_type": "stream",
     "text": [
      "avanish has 🎂 12 oct\n",
      "rahul has 🎂 2 feb\n",
      "amit has 🎂 3 may\n",
      "nitesh has 🎂 4 aug\n",
      "sandeep has 🎂 15 nov\n",
      "amita has 🎂 17 dec\n"
     ]
    }
   ],
   "source": [
    "for nm, date in zip(names, bday):\n",
    "    print(f'{nm} has 🎂 {date}')"
   ]
  },
  {
   "cell_type": "code",
   "execution_count": 9,
   "metadata": {},
   "outputs": [
    {
     "name": "stdout",
     "output_type": "stream",
     "text": [
      "tv $4000 5 pcs total = 20000\n",
      "fridge $26000 10 pcs total = 260000\n",
      "table fan $3000 25 pcs total = 75000\n"
     ]
    }
   ],
   "source": [
    "products = ['tv','fridge','table fan']\n",
    "prices = ['4000','26000','3000']\n",
    "qty = [5,10,25]\n",
    "\n",
    "for p, pr, q in zip(products, prices,qty):\n",
    "    print(f'{p} ${pr} {q} pcs total = {int(pr)*q}')"
   ]
  },
  {
   "cell_type": "markdown",
   "metadata": {},
   "source": [
    "Loop Control\n",
    "- continue => skip a turn\n",
    "- break => axit/stop the loop\n",
    "\n",
    "Note: they are only used in a condition in side loop"
   ]
  },
  {
   "cell_type": "code",
   "execution_count": 11,
   "metadata": {},
   "outputs": [
    {
     "name": "stdout",
     "output_type": "stream",
     "text": [
      "1\n",
      "2\n",
      "3\n",
      "5\n",
      "35\n",
      "1\n",
      "2\n",
      "5\n",
      "6\n"
     ]
    }
   ],
   "source": [
    "x= [1,2,3,5,0,35,0,1,0,2,5,6]\n",
    "for i in x:\n",
    "    if i == 0:\n",
    "        continue\n",
    "    print (i)"
   ]
  },
  {
   "cell_type": "code",
   "execution_count": 12,
   "metadata": {},
   "outputs": [
    {
     "name": "stdout",
     "output_type": "stream",
     "text": [
      "1\n",
      "2\n",
      "3\n",
      "5\n",
      "invalid data found, stopping code\n"
     ]
    }
   ],
   "source": [
    "for i in x:\n",
    "    if i == 0:\n",
    "        print('invalid data found, stopping code')\n",
    "        break\n",
    "    print(i)"
   ]
  },
  {
   "cell_type": "code",
   "execution_count": 13,
   "metadata": {},
   "outputs": [
    {
     "name": "stdout",
     "output_type": "stream",
     "text": [
      "avanish\n",
      "rahul\n",
      "amit\n",
      "nitesh\n",
      "sandeep\n"
     ]
    }
   ],
   "source": [
    "for i, nm in enumerate(names):\n",
    "    if i == 5:\n",
    "        break\n",
    "    print(nm)"
   ]
  },
  {
   "cell_type": "markdown",
   "metadata": {},
   "source": [
    "for- else"
   ]
  },
  {
   "cell_type": "code",
   "execution_count": 1,
   "metadata": {},
   "outputs": [
    {
     "name": "stdout",
     "output_type": "stream",
     "text": [
      "2 4 50 66 loop broken\n"
     ]
    }
   ],
   "source": [
    "c = True \n",
    "for i  in [2,4,50,66,5,50,7,2]:\n",
    "    if i == 5:\n",
    "        c = False\n",
    "        break\n",
    "    print(i , end=' ')\n",
    "if c:\n",
    "    print('loop completed')\n",
    "else:\n",
    "    print('loop broken')"
   ]
  },
  {
   "cell_type": "code",
   "execution_count": 25,
   "metadata": {},
   "outputs": [
    {
     "name": "stdout",
     "output_type": "stream",
     "text": [
      "2 1 32 41 2 1 2 3 31 33 loop completed\n"
     ]
    }
   ],
   "source": [
    "for i in [2,1,32,41,2,1,2,3,31,33]:\n",
    "    if i == 5:\n",
    "        print('loop completed')\n",
    "        break\n",
    "    print(i, end=' ')\n",
    "else:\n",
    "    print('loop completed')"
   ]
  },
  {
   "cell_type": "markdown",
   "metadata": {},
   "source": [
    "while"
   ]
  },
  {
   "cell_type": "code",
   "execution_count": 26,
   "metadata": {},
   "outputs": [
    {
     "name": "stdout",
     "output_type": "stream",
     "text": [
      "100\n",
      "90\n",
      "80\n",
      "70\n",
      "60\n",
      "50\n",
      "40\n",
      "30\n",
      "20\n",
      "10\n"
     ]
    }
   ],
   "source": [
    "x = 100\n",
    "while x > 0:\n",
    "    print(x)\n",
    "    x-= 10"
   ]
  }
 ],
 "metadata": {
  "kernelspec": {
   "display_name": "Python 3.9.12 ('base')",
   "language": "python",
   "name": "python3"
  },
  "language_info": {
   "codemirror_mode": {
    "name": "ipython",
    "version": 3
   },
   "file_extension": ".py",
   "mimetype": "text/x-python",
   "name": "python",
   "nbconvert_exporter": "python",
   "pygments_lexer": "ipython3",
   "version": "3.9.12 (main, Apr  4 2022, 05:22:27) [MSC v.1916 64 bit (AMD64)]"
  },
  "orig_nbformat": 4,
  "vscode": {
   "interpreter": {
    "hash": "6c56f3a33d0a3c970fb9ddc6a367718e31170be01a5eee0ba903e47c86a8ba62"
   }
  }
 },
 "nbformat": 4,
 "nbformat_minor": 2
}
